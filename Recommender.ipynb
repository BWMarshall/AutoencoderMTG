{
 "cells": [
  {
   "cell_type": "code",
   "execution_count": 20,
   "id": "a44f3d57",
   "metadata": {},
   "outputs": [],
   "source": [
    "import numpy as np\n",
    "from sklearn.neighbors import NearestNeighbors\n",
    "import pickle\n",
    "import json"
   ]
  },
  {
   "cell_type": "code",
   "execution_count": 21,
   "id": "2b2428a4",
   "metadata": {},
   "outputs": [],
   "source": [
    "def load_embeddings(path, method=None):\n",
    "    \"\"\"\n",
    "    Load embeddings and card names from saved files\n",
    "    \n",
    "    Args:\n",
    "        path: Path to the saved file\n",
    "        method: 'pickle', 'numpy' or 'json'. If None, inferred from file extension\n",
    "        \n",
    "    Returns:\n",
    "        embeddings: NumPy array of embeddings\n",
    "        names: List of card names\n",
    "    \"\"\"\n",
    "    if method is None:\n",
    "        # Infer method from file extension\n",
    "        if path.endswith('.pkl'):\n",
    "            method = 'pickle'\n",
    "        elif path.endswith('.npy'):\n",
    "            method = 'numpy'\n",
    "        elif path.endswith('.json'):\n",
    "            method = 'json'\n",
    "        else:\n",
    "            raise ValueError(\"Could not infer method from file extension. Please specify method.\")\n",
    "    \n",
    "    if method == 'pickle':\n",
    "        with open(path, 'rb') as f:\n",
    "            data = pickle.load(f)\n",
    "        return data['embeddings'], data['names']\n",
    "    \n",
    "    elif method == 'numpy':\n",
    "        # If path is for embeddings, expect names path to be similar\n",
    "        if 'embeddings' in path:\n",
    "            names_path = path.replace('embeddings', 'names')\n",
    "            embeddings = np.load(path)\n",
    "            with open(names_path, 'rb') as f:\n",
    "                names = pickle.load(f)\n",
    "            return embeddings, names\n",
    "        else:\n",
    "            raise ValueError(\"For 'numpy' method, the path should point to the embeddings file\")\n",
    "        \n",
    "    elif method == 'json':\n",
    "        with open(path, 'r') as f:\n",
    "            data = json.load(f)\n",
    "        return np.array(data['embeddings']), data['names']\n",
    "    \n",
    "    else:\n",
    "        raise ValueError(\"Method must be 'pickle', 'numpy' or 'json'\")\n",
    "\n",
    "# Example usage:\n",
    "embeddings, names = load_embeddings(\"./saved_embeddings/mtg_embeddings_20250724_125801.json\")\n"
   ]
  },
  {
   "cell_type": "code",
   "execution_count": 22,
   "id": "0b284bc2",
   "metadata": {},
   "outputs": [],
   "source": [
    "# Apply KNN for recommendations\n",
    "from sklearn.neighbors import NearestNeighbors\n",
    "\n",
    "knn = NearestNeighbors(n_neighbors=6)  # Include the card itself + 5 recommendations\n",
    "knn.fit(embeddings)\n",
    "\n",
    "# Example: Get recommendations for a specific card\n",
    "def get_recommendations(card_name, all_names, all_embeddings, knn, n=10):\n",
    "    if card_name not in all_names:\n",
    "        print(f\"Card '{card_name}' not found in dataset.\")\n",
    "        return\n",
    "        \n",
    "    idx = all_names.index(card_name)\n",
    "    distances, indices = knn.kneighbors([all_embeddings[idx]], n_neighbors=n+1)\n",
    "    \n",
    "    print(f\"Recommendations for '{card_name}':\")\n",
    "    for i, idx in enumerate(indices[0][1:]):  # Skip the first one (the card itself)\n",
    "        print(f\"{i+1}. {all_names[idx]}\")\n"
   ]
  },
  {
   "cell_type": "code",
   "execution_count": 23,
   "id": "2fe674b4",
   "metadata": {},
   "outputs": [
    {
     "name": "stdout",
     "output_type": "stream",
     "text": [
      "Recommendations for 'Rocco, Street Chef':\n",
      "1. Visions of Phyrexia\n",
      "2. Lorehold Excavation\n",
      "3. Fisher's Talent\n",
      "4. Oko, the Ringleader\n",
      "5. Journey to the Lost City\n",
      "6. Crawling Infestation\n",
      "7. Evidence Examiner\n",
      "8. The Book of Vile Darkness\n",
      "9. Crawling Sensation\n",
      "10. Doom Foretold\n"
     ]
    }
   ],
   "source": [
    "get_recommendations(\"Rocco, Street Chef\", names, embeddings, knn)"
   ]
  }
 ],
 "metadata": {
  "kernelspec": {
   "display_name": "Python 3",
   "language": "python",
   "name": "python3"
  },
  "language_info": {
   "codemirror_mode": {
    "name": "ipython",
    "version": 3
   },
   "file_extension": ".py",
   "mimetype": "text/x-python",
   "name": "python",
   "nbconvert_exporter": "python",
   "pygments_lexer": "ipython3",
   "version": "3.11.9"
  }
 },
 "nbformat": 4,
 "nbformat_minor": 5
}
