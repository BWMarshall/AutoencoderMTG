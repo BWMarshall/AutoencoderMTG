{
 "cells": [
  {
   "cell_type": "code",
   "execution_count": 5,
   "id": "a44f3d57",
   "metadata": {},
   "outputs": [],
   "source": [
    "import numpy as np\n",
    "from sklearn.neighbors import NearestNeighbors\n",
    "import json"
   ]
  },
  {
   "cell_type": "code",
   "execution_count": 6,
   "id": "c7e37f2d",
   "metadata": {},
   "outputs": [
    {
     "name": "stdout",
     "output_type": "stream",
     "text": [
      "Recommendations for 'Rocco, Street Chef':\n",
      "\n",
      "1. Plargg and Nassari (3.1674)\n",
      "    Image: https://cards.scryfall.io/normal/front/1/7/179a0525-a142-46f6-9b5b-06a2fbb25556.jpg?1684340598\n",
      "\n",
      "2. Visions of Phyrexia (3.3624)\n",
      "    Image: https://cards.scryfall.io/normal/front/e/9/e922ef35-b62a-4cf8-9282-319f6de150b0.jpg?1674421303\n",
      "\n",
      "3. Kros, Defense Contractor (3.3754)\n",
      "    Image: https://cards.scryfall.io/normal/front/1/2/12e71d52-5c75-4798-9fe7-8a34a2bf0c9a.jpg?1673481694\n",
      "\n",
      "4. Journey to the Lost City (3.3784)\n",
      "    Image: https://cards.scryfall.io/normal/front/9/6/967b19ce-062d-470c-8716-425a8dec0e18.jpg?1674140988\n",
      "\n",
      "5. Doom Foretold (3.4406)\n",
      "    Image: https://cards.scryfall.io/normal/front/e/7/e76c0c83-3e87-474d-bc72-1677eed32cfa.jpg?1572490732\n",
      "\n",
      "6. Jolrael, Voice of Zhalfir (3.5058)\n",
      "    Image: https://cards.scryfall.io/normal/front/f/c/fcb93216-885c-4ec5-8b88-6cd51f593c8b.jpg?1684340733\n",
      "\n",
      "7. Theater of Horrors (3.5863)\n",
      "    Image: https://cards.scryfall.io/normal/front/f/0/f0b88e4f-070f-48d1-a5f9-c22dfc7ab31b.jpg?1726285267\n",
      "\n",
      "8. Obuun, Mul Daya Ancestor (3.5957)\n",
      "    Image: https://cards.scryfall.io/normal/front/8/3/8319b155-0fba-4d30-9481-bf01afbd3457.jpg?1617522154\n",
      "\n",
      "9. Jon Irenicus, Shattered One (3.6300)\n",
      "    Image: https://cards.scryfall.io/normal/front/b/f/bfddb61e-986f-4557-819d-d6c0ca85c74a.jpg?1674137538\n",
      "\n",
      "10. Chandra, Spark Hunter (3.6683)\n",
      "    Image: https://cards.scryfall.io/normal/front/1/1/11f9b98e-48a1-491e-bdab-6e94e4ec747a.jpg?1739031957\n",
      "\n"
     ]
    }
   ],
   "source": [
    "import json\n",
    "from sklearn.neighbors import NearestNeighbors\n",
    "\n",
    "def load_embeddings(file_path):\n",
    "    \"\"\"Load embeddings, names, and image links\"\"\"\n",
    "    with open(file_path, 'r') as f:\n",
    "        data = json.load(f)\n",
    "    embeddings = data['embeddings']\n",
    "    names = data['names']\n",
    "    imgs = data.get('imgs', [])  # Ensure backward compatibility if imgs not present\n",
    "    return embeddings, names, imgs\n",
    "\n",
    "# Load file\n",
    "embeddings, names, imgs = load_embeddings(r\"saved_embeddings\\mtg_embeddings_20250808.json\")\n",
    "\n",
    "# Apply KNN for recommendations\n",
    "knn = NearestNeighbors(n_neighbors=6)  # Include the card itself + 5 recommendations\n",
    "knn.fit(embeddings)\n",
    "\n",
    "def get_recommendations(card_name, all_names, all_embeddings, all_imgs, knn, n=10):\n",
    "    \"\"\"Print recommendations with image links\"\"\"\n",
    "    if card_name not in all_names:\n",
    "        print(f\"Card '{card_name}' not found in dataset.\")\n",
    "        return\n",
    "\n",
    "    idx = all_names.index(card_name)\n",
    "    distances, indices = knn.kneighbors([all_embeddings[idx]], n_neighbors=n+1)\n",
    "\n",
    "    print(f\"Recommendations for '{card_name}':\\n\")\n",
    "    for i, rec_idx in enumerate(indices[0][1:]):  # Skip the card itself\n",
    "        img_link = all_imgs[rec_idx] if rec_idx < len(all_imgs) else \"No image available\"\n",
    "        print(f\"{i+1}. {all_names[rec_idx]} ({distances[0][i+1]:.4f})\")\n",
    "        print(f\"    Image: {img_link}\\n\")\n",
    "\n",
    "# Test with example card\n",
    "get_recommendations(\"Rocco, Street Chef\", names, embeddings, imgs, knn, n=10)\n"
   ]
  }
 ],
 "metadata": {
  "kernelspec": {
   "display_name": "Python 3",
   "language": "python",
   "name": "python3"
  },
  "language_info": {
   "codemirror_mode": {
    "name": "ipython",
    "version": 3
   },
   "file_extension": ".py",
   "mimetype": "text/x-python",
   "name": "python",
   "nbconvert_exporter": "python",
   "pygments_lexer": "ipython3",
   "version": "3.12.0"
  }
 },
 "nbformat": 4,
 "nbformat_minor": 5
}
