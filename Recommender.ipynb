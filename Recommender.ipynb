{
 "cells": [
  {
   "cell_type": "code",
   "execution_count": 1,
   "id": "a44f3d57",
   "metadata": {},
   "outputs": [],
   "source": [
    "import numpy as np\n",
    "from sklearn.neighbors import NearestNeighbors\n",
    "import json"
   ]
  },
  {
   "cell_type": "code",
   "execution_count": 2,
   "id": "5bf7d8d8",
   "metadata": {},
   "outputs": [],
   "source": [
    "def load_embeddings(file_path):\n",
    "    \"\"\"Load your existing embeddings function\"\"\"\n",
    "    with open(file_path, 'r') as f:\n",
    "        data = json.load(f)\n",
    "    embeddings = data['embeddings']\n",
    "    names = data['names']\n",
    "    return embeddings, names\n",
    "\n",
    "embeddings, names = load_embeddings(\"saved_embeddings\\mtg_embeddings_20250728_153743.json\")"
   ]
  },
  {
   "cell_type": "code",
   "execution_count": 3,
   "id": "0b284bc2",
   "metadata": {},
   "outputs": [],
   "source": [
    "# Apply KNN for recommendations\n",
    "from sklearn.neighbors import NearestNeighbors\n",
    "\n",
    "knn = NearestNeighbors(n_neighbors=6)  # Include the card itself + 5 recommendations\n",
    "knn.fit(embeddings)\n",
    "\n",
    "# Example: Get recommendations for a specific card\n",
    "def get_recommendations(card_name, all_names, all_embeddings, knn, n=10):\n",
    "    if card_name not in all_names:\n",
    "        print(f\"Card '{card_name}' not found in dataset.\")\n",
    "        return\n",
    "        \n",
    "    idx = all_names.index(card_name)\n",
    "    distances, indices = knn.kneighbors([all_embeddings[idx]], n_neighbors=n+1)\n",
    "    \n",
    "    print(f\"Recommendations for '{card_name}':\")\n",
    "    for i, idx in enumerate(indices[0][1:]):  # Skip the first one (the card itself)\n",
    "        print(f\"{i+1}. {all_names[idx]}\")\n"
   ]
  },
  {
   "cell_type": "code",
   "execution_count": 4,
   "id": "2fe674b4",
   "metadata": {},
   "outputs": [
    {
     "name": "stdout",
     "output_type": "stream",
     "text": [
      "Recommendations for 'Rocco, Street Chef':\n",
      "1. Visions of Phyrexia\n",
      "2. Rashmi and Ragavan\n",
      "3. Glimpse the Impossible\n",
      "4. Faramir, Prince of Ithilien\n",
      "5. Plargg and Nassari\n",
      "6. Theater of Horrors\n",
      "7. Lorehold Excavation\n",
      "8. Doom Foretold\n",
      "9. Sliver Gravemother\n",
      "10. Journey to the Lost City\n"
     ]
    }
   ],
   "source": [
    "get_recommendations(\"Rocco, Street Chef\", names, embeddings, knn, n=10)"
   ]
  },
  {
   "cell_type": "code",
   "execution_count": 5,
   "id": "d9feba06",
   "metadata": {},
   "outputs": [
    {
     "name": "stdout",
     "output_type": "stream",
     "text": [
      "Recommendations for 'Beetleback Chief':\n",
      "1. Goblin Gang Leader\n",
      "2. Symbiotic Elf\n",
      "3. Chimney Rabble\n",
      "4. Head of the Homestead\n",
      "5. Goblin Instigator\n",
      "6. Dragon Fodder\n",
      "7. Krenko's Command\n",
      "8. Weirding Shaman\n",
      "9. Elderleaf Mentor\n",
      "10. Ambassador Oak\n"
     ]
    }
   ],
   "source": [
    "get_recommendations(\"Beetleback Chief\", names, embeddings, knn, n=10)"
   ]
  },
  {
   "cell_type": "code",
   "execution_count": 6,
   "id": "58ff0f17",
   "metadata": {},
   "outputs": [
    {
     "name": "stdout",
     "output_type": "stream",
     "text": [
      "Recommendations for 'Opt':\n",
      "1. Consider\n",
      "2. Watchful Automaton\n",
      "3. Sigiled Starfish\n",
      "4. Tidepool Turtle\n",
      "5. Rummaging Wizard\n",
      "6. Elven Farsight\n",
      "7. Geist of the Archives\n",
      "8. Think Tank\n",
      "9. Dissolve\n",
      "10. Glimpse the Sun God\n"
     ]
    }
   ],
   "source": [
    "get_recommendations(\"Opt\", names, embeddings, knn, n=10)"
   ]
  }
 ],
 "metadata": {
  "kernelspec": {
   "display_name": "Python 3",
   "language": "python",
   "name": "python3"
  },
  "language_info": {
   "codemirror_mode": {
    "name": "ipython",
    "version": 3
   },
   "file_extension": ".py",
   "mimetype": "text/x-python",
   "name": "python",
   "nbconvert_exporter": "python",
   "pygments_lexer": "ipython3",
   "version": "3.11.9"
  }
 },
 "nbformat": 4,
 "nbformat_minor": 5
}
